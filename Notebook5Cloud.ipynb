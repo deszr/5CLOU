{
  "cells": [
    {
      "cell_type": "markdown",
      "source": [
        "# Chargement du fichier JSON dans un DataFrame Spark"
      ],
      "metadata": {
        "nteract": {
          "transient": {
            "deleting": false
          }
        }
      }
    },
    {
      "cell_type": "code",
      "source": [
        "%%pyspark\n",
        "df_raw = spark.read.load('abfss://synapsedatalake5cloud@datalake5cloud.dfs.core.windows.net/data_601c8ae0-679c-4371-a2bb-bf0617596956_5078817c-92be-4caa-a136-39c8335ada2c.json', format='json')\n",
        "display(df_raw.limit(10))"
      ],
      "outputs": [
        {
          "output_type": "display_data",
          "data": {
            "application/vnd.livy.statement-meta+json": {
              "spark_pool": "pool",
              "statement_id": 13,
              "statement_ids": [
                13
              ],
              "state": "finished",
              "livy_statement_state": "available",
              "spark_jobs": null,
              "session_id": "4",
              "normalized_state": "finished",
              "queued_time": "2024-11-12T14:22:07.4516707Z",
              "session_start_time": null,
              "execution_start_time": "2024-11-12T14:22:07.6664104Z",
              "execution_finish_time": "2024-11-12T14:22:14.9953869Z",
              "parent_msg_id": "ab9edc78-a72c-473f-87f1-511b582e7e7c"
            },
            "text/plain": "StatementMeta(pool, 4, 13, Finished, Available, Finished)"
          },
          "metadata": {}
        },
        {
          "output_type": "display_data",
          "data": {
            "application/vnd.synapse.widget-view+json": {
              "widget_id": "5fbfe36d-eaea-4b22-ad55-aeebefe8e23a",
              "widget_type": "Synapse.DataFrame"
            },
            "text/plain": "SynapseWidget(Synapse.DataFrame, 5fbfe36d-eaea-4b22-ad55-aeebefe8e23a)"
          },
          "metadata": {}
        }
      ],
      "execution_count": 51,
      "metadata": {
        "microsoft": {
          "language": "python"
        },
        "jupyter": {
          "source_hidden": false,
          "outputs_hidden": false
        },
        "nteract": {
          "transient": {
            "deleting": false
          }
        },
        "collapsed": false
      }
    },
    {
      "cell_type": "markdown",
      "source": [
        "# 2. Extraction et Flattening des Données: \r\n",
        "\r\n",
        "Le JSON contient une structure imbriquée, donc nous devons extraire les données de l'objet data."
      ],
      "metadata": {
        "nteract": {
          "transient": {
            "deleting": false
          }
        }
      }
    },
    {
      "cell_type": "code",
      "source": [
        "# Extraction des informations de \"data\"\r\n",
        "df = df_raw.selectExpr(\"explode(data) as data\").select(\"data.*\")\r\n"
      ],
      "outputs": [
        {
          "output_type": "display_data",
          "data": {
            "application/vnd.livy.statement-meta+json": {
              "spark_pool": "pool",
              "statement_id": 14,
              "statement_ids": [
                14
              ],
              "state": "finished",
              "livy_statement_state": "available",
              "spark_jobs": null,
              "session_id": "4",
              "normalized_state": "finished",
              "queued_time": "2024-11-12T14:22:25.7764234Z",
              "session_start_time": null,
              "execution_start_time": "2024-11-12T14:22:25.948323Z",
              "execution_finish_time": "2024-11-12T14:22:26.5555526Z",
              "parent_msg_id": "e09e5c52-ec6f-4ab9-a85b-d580f6768bdb"
            },
            "text/plain": "StatementMeta(pool, 4, 14, Finished, Available, Finished)"
          },
          "metadata": {}
        }
      ],
      "execution_count": 52,
      "metadata": {
        "jupyter": {
          "source_hidden": false,
          "outputs_hidden": false
        },
        "nteract": {
          "transient": {
            "deleting": false
          }
        }
      }
    },
    {
      "cell_type": "markdown",
      "source": [
        "# 3. Nettoyage et Transformation des Données\r\n",
        "\r\n",
        "- Sélection des colonnes pertinentes\r\n",
        "- Conversion du updateTime (en millisecondes depuis l'époque Unix) en date\r\n",
        "- Gestion des valeurs nulles"
      ],
      "metadata": {
        "nteract": {
          "transient": {
            "deleting": false
          }
        }
      }
    },
    {
      "cell_type": "code",
      "source": [
        "from pyspark.sql.functions import col, from_unixtime,when\r\n",
        "\r\n",
        "# Sélection des colonnes et nettoyage des valeurs nulles\r\n",
        "df_cleaned = df.select(\r\n",
        "    col(\"encryptedUid\").alias(\"user_id\"),\r\n",
        "    col(\"nickName\").alias(\"nickname\"),\r\n",
        "    col(\"userPhotoUrl\").alias(\"photo_url\"),\r\n",
        "    col(\"rank\"),\r\n",
        "    col(\"followerCount\").alias(\"follower_count\"),\r\n",
        "    col(\"leaderboardUrl\").alias(\"leaderboard_url\"),\r\n",
        "    from_unixtime(col(\"updateTime\") / 1000).cast(\"timestamp\").alias(\"update_time\")\r\n",
        ").fillna({\"nickname\": \"Unknown\", \"photo_url\": \"\", \"follower_count\": 0})\r\n",
        "\r\n",
        "\r\n",
        "# Affichage des premières lignes après nettoyage\r\n",
        "df_cleaned.show(5)\r\n"
      ],
      "outputs": [
        {
          "output_type": "display_data",
          "data": {
            "application/vnd.livy.statement-meta+json": {
              "spark_pool": "pool",
              "statement_id": 15,
              "statement_ids": [
                15
              ],
              "state": "finished",
              "livy_statement_state": "available",
              "spark_jobs": null,
              "session_id": "4",
              "normalized_state": "finished",
              "queued_time": "2024-11-12T14:22:31.2679606Z",
              "session_start_time": null,
              "execution_start_time": "2024-11-12T14:22:31.440626Z",
              "execution_finish_time": "2024-11-12T14:22:33.4471687Z",
              "parent_msg_id": "dc175bdf-46dc-48a9-b61a-91155e315832"
            },
            "text/plain": "StatementMeta(pool, 4, 15, Finished, Available, Finished)"
          },
          "metadata": {}
        },
        {
          "output_type": "stream",
          "name": "stdout",
          "text": [
            "+--------------------+--------------------+---------+----+--------------+--------------------+-------------------+\n|             user_id|            nickname|photo_url|rank|follower_count|     leaderboard_url|        update_time|\n+--------------------+--------------------+---------+----+--------------+--------------------+-------------------+\n|E4C2BCB6FDF2A2A7A...|     Ethcoin Founder|         |  29|          6174|https://www.binan...|2024-11-12 00:00:00|\n|26D230E2086395890...|Anonymous User-ea...|         | 144|           900|https://www.binan...|2024-11-12 00:00:00|\n|8FEB3EA2D767A2732...|            Dumbass1|         | 183|          2158|https://www.binan...|2024-11-12 00:00:00|\n|61FB1D1ADC31E34B3...|        musthaveluck|         | 231|           489|https://www.binan...|2024-11-12 00:00:00|\n|988EE5573E692A34D...|        Miracle55555|         | 254|             0|https://www.binan...|2024-11-12 00:00:00|\n+--------------------+--------------------+---------+----+--------------+--------------------+-------------------+\nonly showing top 5 rows\n\n"
          ]
        }
      ],
      "execution_count": 53,
      "metadata": {
        "jupyter": {
          "source_hidden": false,
          "outputs_hidden": false
        },
        "nteract": {
          "transient": {
            "deleting": false
          }
        }
      }
    },
    {
      "cell_type": "markdown",
      "source": [
        "# 4. Ajout de Colonnes Dérivées\r\n",
        "nous  ajoutons des colonnes dérivées pour faciliter la visualisation, comme par exemple une colonne rank_category pour catégoriser les utilisateurs en fonction de leur rank."
      ],
      "metadata": {
        "nteract": {
          "transient": {
            "deleting": false
          }
        }
      }
    },
    {
      "cell_type": "code",
      "source": [
        "# Ajout d'une colonne de catégorie de rang (par exemple, Top 50, 100, 500, etc.)\r\n",
        "df_transformed = df_cleaned.withColumn(\r\n",
        "    \"rank_category\",\r\n",
        "    when(col(\"rank\") <= 50, \"Top 50\")\r\n",
        "    .when(col(\"rank\") <= 100, \"Top 100\")\r\n",
        "    .when(col(\"rank\") <= 500, \"Top 500\")\r\n",
        "    .otherwise(\"500+\")\r\n",
        ")\r\n",
        "\r\n",
        "# Affichage des premières lignes après nettoyage\r\n",
        "df_transformed.show(5)\r\n",
        "\r\n"
      ],
      "outputs": [
        {
          "output_type": "display_data",
          "data": {
            "application/vnd.livy.statement-meta+json": {
              "spark_pool": "pool",
              "statement_id": 16,
              "statement_ids": [
                16
              ],
              "state": "finished",
              "livy_statement_state": "available",
              "spark_jobs": null,
              "session_id": "4",
              "normalized_state": "finished",
              "queued_time": "2024-11-12T14:22:40.9091025Z",
              "session_start_time": null,
              "execution_start_time": "2024-11-12T14:22:41.0814463Z",
              "execution_finish_time": "2024-11-12T14:22:44.1766641Z",
              "parent_msg_id": "91f088b6-233f-40ed-be53-db08c6e614f5"
            },
            "text/plain": "StatementMeta(pool, 4, 16, Finished, Available, Finished)"
          },
          "metadata": {}
        },
        {
          "output_type": "stream",
          "name": "stdout",
          "text": [
            "+--------------------+--------------------+---------+----+--------------+--------------------+-------------------+-------------+\n|             user_id|            nickname|photo_url|rank|follower_count|     leaderboard_url|        update_time|rank_category|\n+--------------------+--------------------+---------+----+--------------+--------------------+-------------------+-------------+\n|E4C2BCB6FDF2A2A7A...|     Ethcoin Founder|         |  29|          6174|https://www.binan...|2024-11-12 00:00:00|       Top 50|\n|26D230E2086395890...|Anonymous User-ea...|         | 144|           900|https://www.binan...|2024-11-12 00:00:00|      Top 500|\n|8FEB3EA2D767A2732...|            Dumbass1|         | 183|          2158|https://www.binan...|2024-11-12 00:00:00|      Top 500|\n|61FB1D1ADC31E34B3...|        musthaveluck|         | 231|           489|https://www.binan...|2024-11-12 00:00:00|      Top 500|\n|988EE5573E692A34D...|        Miracle55555|         | 254|             0|https://www.binan...|2024-11-12 00:00:00|      Top 500|\n+--------------------+--------------------+---------+----+--------------+--------------------+-------------------+-------------+\nonly showing top 5 rows\n\n"
          ]
        }
      ],
      "execution_count": 54,
      "metadata": {
        "jupyter": {
          "source_hidden": false,
          "outputs_hidden": false
        },
        "nteract": {
          "transient": {
            "deleting": false
          }
        }
      }
    },
    {
      "cell_type": "markdown",
      "source": [
        "# 5. Écriture des Données dans Azure Synapse pour la Visualisation\r\n",
        "Après le nettoyage et les transformations, nous pouvons écrire les données nettoyées dans un fichier dans le Data Lake pour la visualisation."
      ],
      "metadata": {
        "nteract": {
          "transient": {
            "deleting": false
          }
        }
      }
    },
    {
      "cell_type": "code",
      "source": [
        "# Écriture des données transformées dans un fichier CSV\r\n",
        "df_transformed.write.mode(\"overwrite\").option(\"header\", \"true\").csv(\"abfss://synapsedatalake5cloud@datalake5cloud.dfs.core.windows.net/cleaned_finance_data\")\r\n"
      ],
      "outputs": [
        {
          "output_type": "display_data",
          "data": {
            "application/vnd.livy.statement-meta+json": {
              "spark_pool": "pool",
              "statement_id": 6,
              "statement_ids": [
                6
              ],
              "state": "finished",
              "livy_statement_state": "available",
              "spark_jobs": null,
              "session_id": "2",
              "normalized_state": "finished",
              "queued_time": "2024-11-12T11:03:04.4953235Z",
              "session_start_time": null,
              "execution_start_time": "2024-11-12T11:06:57.3644074Z",
              "execution_finish_time": "2024-11-12T11:07:02.9150202Z",
              "parent_msg_id": "22fe35e1-176b-460d-b329-a508ac5bc0fd"
            },
            "text/plain": "StatementMeta(pool, 2, 6, Finished, Available, Finished)"
          },
          "metadata": {}
        }
      ],
      "execution_count": 18,
      "metadata": {
        "jupyter": {
          "source_hidden": false,
          "outputs_hidden": false
        },
        "nteract": {
          "transient": {
            "deleting": false
          }
        }
      }
    },
    {
      "cell_type": "markdown",
      "source": [
        "# 6. Visualisation des données"
      ],
      "metadata": {
        "nteract": {
          "transient": {
            "deleting": false
          }
        }
      }
    }
  ],
  "metadata": {
    "language_info": {
      "name": "python"
    },
    "kernelspec": {
      "name": "synapse_pyspark",
      "language": "Python",
      "display_name": "Synapse PySpark"
    },
    "kernel_info": {
      "name": "synapse_pyspark"
    },
    "description": null,
    "save_output": true,
    "synapse_widget": {
      "version": "0.1",
      "state": {
        "5fbfe36d-eaea-4b22-ad55-aeebefe8e23a": {
          "type": "Synapse.DataFrame",
          "sync_state": {
            "table": {
              "rows": [
                {
                  "0": [
                    {
                      "userPhotoUrl": "",
                      "rank": 29,
                      "nickName": "Ethcoin Founder",
                      "positionShared": true,
                      "followerCount": 6174,
                      "leaderboardUrl": "https://www.binance.com/en/futures-activity/leaderboard/user/um?type=myProfile&encryptedUid=E4C2BCB6FDF2A2A7A20D516B8389B952",
                      "updateTime": 1731369600000,
                      "encryptedUid": "E4C2BCB6FDF2A2A7A20D516B8389B952"
                    },
                    {
                      "userPhotoUrl": "",
                      "rank": 144,
                      "nickName": "Anonymous User-ea1b015",
                      "positionShared": true,
                      "followerCount": 900,
                      "leaderboardUrl": "https://www.binance.com/en/futures-activity/leaderboard/user/um?type=myProfile&encryptedUid=26D230E2086395890FB1323F6022D39B",
                      "updateTime": 1731369600000,
                      "encryptedUid": "26D230E2086395890FB1323F6022D39B"
                    },
                    {
                      "userPhotoUrl": "",
                      "rank": 183,
                      "nickName": "Dumbass1",
                      "positionShared": true,
                      "followerCount": 2158,
                      "leaderboardUrl": "https://www.binance.com/en/futures-activity/leaderboard/user/um?type=myProfile&encryptedUid=8FEB3EA2D767A27324E7D0A8B2E8FEA4",
                      "updateTime": 1731369600000,
                      "encryptedUid": "8FEB3EA2D767A27324E7D0A8B2E8FEA4"
                    },
                    {
                      "userPhotoUrl": "",
                      "rank": 231,
                      "nickName": "musthaveluck",
                      "positionShared": true,
                      "followerCount": 489,
                      "leaderboardUrl": "https://www.binance.com/en/futures-activity/leaderboard/user/um?type=myProfile&encryptedUid=61FB1D1ADC31E34B36948A75A338CCA0",
                      "updateTime": 1731369600000,
                      "encryptedUid": "61FB1D1ADC31E34B36948A75A338CCA0"
                    },
                    {
                      "userPhotoUrl": "",
                      "rank": 254,
                      "nickName": "Miracle55555",
                      "positionShared": true,
                      "followerCount": 0,
                      "leaderboardUrl": "https://www.binance.com/en/futures-activity/leaderboard/user/um?type=myProfile&encryptedUid=988EE5573E692A34D959291245DC8F22",
                      "updateTime": 1731369600000,
                      "encryptedUid": "988EE5573E692A34D959291245DC8F22"
                    },
                    {
                      "userPhotoUrl": "https://public-1306379396.file.myqcloud.com/image/common_notification/20211230/f6305dee-e00e-4bfe-9d13-3073ad8eb565.png",
                      "rank": 326,
                      "nickName": "DODAMOON",
                      "positionShared": true,
                      "followerCount": 318,
                      "leaderboardUrl": "https://www.binance.com/en/futures-activity/leaderboard/user/um?type=myProfile&encryptedUid=54601561CD395E2F9C6D9A7CB0BD000B",
                      "updateTime": 1731369600000,
                      "encryptedUid": "54601561CD395E2F9C6D9A7CB0BD000B"
                    },
                    {
                      "userPhotoUrl": "https://public-1306379396.file.myqcloud.com/image/pgc/202410/ad7d2c9c3bd924f1b1c0ab2cfac02e45.png",
                      "rank": 374,
                      "nickName": "午夜投资",
                      "positionShared": true,
                      "followerCount": 1095,
                      "leaderboardUrl": "https://www.binance.com/en/futures-activity/leaderboard/user/um?type=myProfile&encryptedUid=982AE5CA51EF4B09055211B0FEC0ABEA",
                      "updateTime": 1731369600000,
                      "encryptedUid": "982AE5CA51EF4B09055211B0FEC0ABEA"
                    },
                    {
                      "userPhotoUrl": "https://public-1306379396.file.myqcloud.com/image/common_notification/20211230/f6305dee-e00e-4bfe-9d13-3073ad8eb565.png",
                      "rank": 398,
                      "nickName": "CalvinKlein69",
                      "positionShared": true,
                      "followerCount": 2717,
                      "leaderboardUrl": "https://www.binance.com/en/futures-activity/leaderboard/user/um?type=myProfile&encryptedUid=E921F42DCD4D9F6ECC0DFCE3BAB1D11A",
                      "updateTime": 1731369600000,
                      "encryptedUid": "E921F42DCD4D9F6ECC0DFCE3BAB1D11A"
                    },
                    {
                      "userPhotoUrl": "https://public-1306379396.file.myqcloud.com/image/common_notification/20211230/e92a43a4-d9cf-4d0f-bc09-adae854a54f2.png",
                      "rank": 431,
                      "twitterUrl": "https://twitter.com/DekuKing1",
                      "nickName": "土豆potato",
                      "positionShared": true,
                      "followerCount": 85,
                      "leaderboardUrl": "https://www.binance.com/en/futures-activity/leaderboard/user/um?type=myProfile&encryptedUid=D852DF7040CDB8C9293B54B2BCD66CD8",
                      "updateTime": 1731369600000,
                      "encryptedUid": "D852DF7040CDB8C9293B54B2BCD66CD8"
                    },
                    {
                      "userPhotoUrl": "",
                      "rank": 441,
                      "nickName": "H_VA",
                      "positionShared": true,
                      "followerCount": 1198,
                      "leaderboardUrl": "https://www.binance.com/en/futures-activity/leaderboard/user/um?type=myProfile&encryptedUid=2FF76A4EDC52D8F2265E8173B280B28C",
                      "updateTime": 1731369600000,
                      "encryptedUid": "2FF76A4EDC52D8F2265E8173B280B28C"
                    },
                    {
                      "userPhotoUrl": "",
                      "rank": 600,
                      "nickName": "Anonymous User-f0f6b22",
                      "positionShared": true,
                      "followerCount": 965,
                      "leaderboardUrl": "https://www.binance.com/en/futures-activity/leaderboard/user/um?type=myProfile&encryptedUid=07C0C7F994706DB3F63C06641848AEF9",
                      "updateTime": 1731369600000,
                      "encryptedUid": "07C0C7F994706DB3F63C06641848AEF9"
                    },
                    {
                      "userPhotoUrl": "https://public.nftstatic.com/static/nft/res/nft-extdata-loader/S3/1683410261110_omyknvb6urnfiqzc145y73wsazrlgula.jpg",
                      "rank": 611,
                      "nickName": "Ohtanishohei",
                      "positionShared": true,
                      "followerCount": 246,
                      "leaderboardUrl": "https://www.binance.com/en/futures-activity/leaderboard/user/um?type=myProfile&encryptedUid=EE2861F7029B8C98B6B000A06BC938DC",
                      "updateTime": 1731369600000,
                      "encryptedUid": "EE2861F7029B8C98B6B000A06BC938DC"
                    },
                    {
                      "userPhotoUrl": "",
                      "rank": 661,
                      "twitterUrl": "https://twitter.com/porkeepie",
                      "nickName": "Porkeepie",
                      "positionShared": true,
                      "followerCount": 342,
                      "leaderboardUrl": "https://www.binance.com/en/futures-activity/leaderboard/user/um?type=myProfile&encryptedUid=2959F6FAD4BDD96952B86D72E7C9FAF3",
                      "updateTime": 1731369600000,
                      "encryptedUid": "2959F6FAD4BDD96952B86D72E7C9FAF3"
                    },
                    {
                      "userPhotoUrl": "https://public-1306379396.file.myqcloud.com/image/common_notification/20211230/ca5ef4d8-dc73-43ba-9b42-f0ed45929ac5.png",
                      "rank": 662,
                      "nickName": "ProTradeFutures",
                      "positionShared": true,
                      "followerCount": 0,
                      "leaderboardUrl": "https://www.binance.com/en/futures-activity/leaderboard/user/um?type=myProfile&encryptedUid=F0835407054A43774E3088F610ABF16B",
                      "updateTime": 1731369600000,
                      "encryptedUid": "F0835407054A43774E3088F610ABF16B"
                    },
                    {
                      "userPhotoUrl": "",
                      "rank": 705,
                      "nickName": "Anonymous User-0cb50",
                      "positionShared": true,
                      "followerCount": 699,
                      "leaderboardUrl": "https://www.binance.com/en/futures-activity/leaderboard/user/um?type=myProfile&encryptedUid=C4903D34BFE9D082FC14B55D685E8BD7",
                      "updateTime": 1731369600000,
                      "encryptedUid": "C4903D34BFE9D082FC14B55D685E8BD7"
                    },
                    {
                      "userPhotoUrl": "",
                      "rank": 713,
                      "nickName": "Anonymous User-d04dd1",
                      "positionShared": true,
                      "followerCount": 252,
                      "leaderboardUrl": "https://www.binance.com/en/futures-activity/leaderboard/user/um?type=myProfile&encryptedUid=4C5BE0B709158EE7E8EAF1C10DFDB4FC",
                      "updateTime": 1731369600000,
                      "encryptedUid": "4C5BE0B709158EE7E8EAF1C10DFDB4FC"
                    },
                    {
                      "userPhotoUrl": "",
                      "rank": 828,
                      "nickName": "HummusXBT",
                      "positionShared": true,
                      "followerCount": 610,
                      "leaderboardUrl": "https://www.binance.com/en/futures-activity/leaderboard/user/um?type=myProfile&encryptedUid=D9E14F24A64472D262BF72FC7F817CBE",
                      "updateTime": 1731369600000,
                      "encryptedUid": "D9E14F24A64472D262BF72FC7F817CBE"
                    },
                    {
                      "userPhotoUrl": "https://public-1306379396.file.myqcloud.com/image/common_notification/20211230/ca5ef4d8-dc73-43ba-9b42-f0ed45929ac5.png",
                      "rank": 854,
                      "nickName": "CryptoWarrior-One",
                      "positionShared": true,
                      "followerCount": 10,
                      "leaderboardUrl": "https://www.binance.com/en/futures-activity/leaderboard/user/um?type=myProfile&encryptedUid=2AE10450095EEE9FA98E7F1C46C1240B",
                      "updateTime": 1731369600000,
                      "encryptedUid": "2AE10450095EEE9FA98E7F1C46C1240B"
                    },
                    {
                      "userPhotoUrl": "",
                      "rank": 1079,
                      "nickName": "ONLYCANDLE",
                      "positionShared": true,
                      "followerCount": 241,
                      "leaderboardUrl": "https://www.binance.com/en/futures-activity/leaderboard/user/um?type=myProfile&encryptedUid=616EAE3E24D9FFFA7EA8E500D102D2DC",
                      "updateTime": 1731369600000,
                      "encryptedUid": "616EAE3E24D9FFFA7EA8E500D102D2DC"
                    },
                    {
                      "userPhotoUrl": "https://public-1306379396.file.myqcloud.com/image/common_notification/20211230/f6305dee-e00e-4bfe-9d13-3073ad8eb565.png",
                      "rank": 1126,
                      "nickName": "lew",
                      "positionShared": true,
                      "followerCount": 194,
                      "leaderboardUrl": "https://www.binance.com/en/futures-activity/leaderboard/user/um?type=myProfile&encryptedUid=D6C02954C24E6327EB574448D2CDFD56",
                      "updateTime": 1731369600000,
                      "encryptedUid": "D6C02954C24E6327EB574448D2CDFD56"
                    },
                    {
                      "userPhotoUrl": "",
                      "rank": 1173,
                      "nickName": "Anonymous-User-be517",
                      "positionShared": true,
                      "followerCount": 59,
                      "leaderboardUrl": "https://www.binance.com/en/futures-activity/leaderboard/user/um?type=myProfile&encryptedUid=52586E3AA7FAD8D5DF6FC4CE40198F61",
                      "updateTime": 1731369600000,
                      "encryptedUid": "52586E3AA7FAD8D5DF6FC4CE40198F61"
                    },
                    {
                      "userPhotoUrl": "",
                      "rank": 1242,
                      "nickName": "一币一粟",
                      "positionShared": true,
                      "followerCount": 86,
                      "leaderboardUrl": "https://www.binance.com/en/futures-activity/leaderboard/user/um?type=myProfile&encryptedUid=6166370ADB37916B48B48B0BAE2890F8",
                      "updateTime": 1731369600000,
                      "encryptedUid": "6166370ADB37916B48B48B0BAE2890F8"
                    },
                    {
                      "userPhotoUrl": "https://public-1306379396.file.myqcloud.com/image/common_notification/20211230/9fcca2a6-6c68-41dc-9d50-10efe1a3d710.png",
                      "rank": 1342,
                      "nickName": "Sushi-",
                      "positionShared": true,
                      "followerCount": 109,
                      "leaderboardUrl": "https://www.binance.com/en/futures-activity/leaderboard/user/um?type=myProfile&encryptedUid=D42596572BBFA246FF5A7C79BC8F9860",
                      "updateTime": 1731369600000,
                      "encryptedUid": "D42596572BBFA246FF5A7C79BC8F9860"
                    },
                    {
                      "userPhotoUrl": "https://public-1306379396.file.myqcloud.com/image/pgc/202411/7068935061a3422714769913b85522e9.jpg",
                      "rank": 1431,
                      "twitterUrl": "https://twitter.com/huahuayjy",
                      "nickName": "hahaha124573645",
                      "positionShared": true,
                      "followerCount": 55,
                      "leaderboardUrl": "https://www.binance.com/en/futures-activity/leaderboard/user/um?type=myProfile&encryptedUid=D31DA0CFC550B81981E6A582E3E4B2F5",
                      "updateTime": 1731369600000,
                      "encryptedUid": "D31DA0CFC550B81981E6A582E3E4B2F5"
                    },
                    {
                      "userPhotoUrl": "",
                      "rank": 1461,
                      "nickName": "Anonymous User-51dd315",
                      "positionShared": true,
                      "followerCount": 21,
                      "leaderboardUrl": "https://www.binance.com/en/futures-activity/leaderboard/user/um?type=myProfile&encryptedUid=9D106FF9D14135912D47AEE0AF4E222E",
                      "updateTime": 1731369600000,
                      "encryptedUid": "9D106FF9D14135912D47AEE0AF4E222E"
                    },
                    {
                      "userPhotoUrl": "https://public-1306379396.file.myqcloud.com/image/common_notification/20211230/555ac257-584e-40a6-9adb-f96a603820f3.png",
                      "rank": 1469,
                      "nickName": "tricypher",
                      "positionShared": true,
                      "followerCount": 43,
                      "leaderboardUrl": "https://www.binance.com/en/futures-activity/leaderboard/user/um?type=myProfile&encryptedUid=0B3658EC4C7D0516CEB1254BAAEBBFF6",
                      "updateTime": 1731369600000,
                      "encryptedUid": "0B3658EC4C7D0516CEB1254BAAEBBFF6"
                    },
                    {
                      "userPhotoUrl": "https://public-1306379396.file.myqcloud.com/image/avatar/202409/a6ff2b6c7c7188b29a2c45794adc75ed.jpeg",
                      "rank": 1596,
                      "twitterUrl": "https://twitter.com/zerocaus_",
                      "nickName": "ZeroCaus",
                      "positionShared": true,
                      "followerCount": 1057,
                      "leaderboardUrl": "https://www.binance.com/en/futures-activity/leaderboard/user/um?type=myProfile&encryptedUid=784C773D0D4FCDE20BA816C3FB395EF5",
                      "updateTime": 1731369600000,
                      "encryptedUid": "784C773D0D4FCDE20BA816C3FB395EF5"
                    },
                    {
                      "userPhotoUrl": "https://public-1306379396.file.myqcloud.com/image/avatar/202406/e649ba8043a56cbf5e72cb3d70a42ec3.jpeg",
                      "rank": 1627,
                      "nickName": "ApexTraderAlex2",
                      "positionShared": true,
                      "followerCount": 2092,
                      "leaderboardUrl": "https://www.binance.com/en/futures-activity/leaderboard/user/um?type=myProfile&encryptedUid=13A05CEEA6B2B444C1AB8973255BAF9C",
                      "updateTime": 1731369600000,
                      "encryptedUid": "13A05CEEA6B2B444C1AB8973255BAF9C"
                    },
                    {
                      "userPhotoUrl": "",
                      "rank": 1720,
                      "nickName": "dogegazua",
                      "positionShared": true,
                      "followerCount": 3,
                      "leaderboardUrl": "https://www.binance.com/en/futures-activity/leaderboard/user/um?type=myProfile&encryptedUid=0464828134497DF8FE6FB86BBCABC475",
                      "updateTime": 1731369600000,
                      "encryptedUid": "0464828134497DF8FE6FB86BBCABC475"
                    },
                    {
                      "userPhotoUrl": "https://public-1306379396.file.myqcloud.com/image/common_notification/20211230/9fcca2a6-6c68-41dc-9d50-10efe1a3d710.png",
                      "rank": 1769,
                      "nickName": "Traderforxxc",
                      "positionShared": true,
                      "followerCount": 3,
                      "leaderboardUrl": "https://www.binance.com/en/futures-activity/leaderboard/user/um?type=myProfile&encryptedUid=FA73F8F3125F0AAB08A71B08FDC60281",
                      "updateTime": 1731369600000,
                      "encryptedUid": "FA73F8F3125F0AAB08A71B08FDC60281"
                    },
                    {
                      "userPhotoUrl": "",
                      "rank": 1878,
                      "nickName": "赚够三亿U就收手",
                      "positionShared": true,
                      "followerCount": 379,
                      "leaderboardUrl": "https://www.binance.com/en/futures-activity/leaderboard/user/um?type=myProfile&encryptedUid=D6A33BCC2092DF57673F42E6BBCFFB2F",
                      "updateTime": 1731369600000,
                      "encryptedUid": "D6A33BCC2092DF57673F42E6BBCFFB2F"
                    },
                    {
                      "userPhotoUrl": "",
                      "rank": 1960,
                      "nickName": "SongGyumin",
                      "positionShared": true,
                      "followerCount": 67,
                      "leaderboardUrl": "https://www.binance.com/en/futures-activity/leaderboard/user/um?type=myProfile&encryptedUid=EDD52CAD33BB97F1E00F17A70033A45C",
                      "updateTime": 1731369600000,
                      "encryptedUid": "EDD52CAD33BB97F1E00F17A70033A45C"
                    },
                    {
                      "userPhotoUrl": "https://public-1306379396.file.myqcloud.com/image/common_notification/20211230/9fcca2a6-6c68-41dc-9d50-10efe1a3d710.png",
                      "rank": 2046,
                      "nickName": "MAYCChef",
                      "positionShared": true,
                      "followerCount": 6,
                      "leaderboardUrl": "https://www.binance.com/en/futures-activity/leaderboard/user/um?type=myProfile&encryptedUid=5CF78F8ED68DECA5F26795A75BAD84D5",
                      "updateTime": 1731369600000,
                      "encryptedUid": "5CF78F8ED68DECA5F26795A75BAD84D5"
                    },
                    {
                      "userPhotoUrl": "https://public-1306379396.file.myqcloud.com/image/common_notification/20211230/9fcca2a6-6c68-41dc-9d50-10efe1a3d710.png",
                      "rank": 2246,
                      "nickName": "Ketan7",
                      "positionShared": true,
                      "followerCount": 1558,
                      "leaderboardUrl": "https://www.binance.com/en/futures-activity/leaderboard/user/um?type=myProfile&encryptedUid=28BA671219B9ED82915C290F55B6B982",
                      "updateTime": 1731369600000,
                      "encryptedUid": "28BA671219B9ED82915C290F55B6B982"
                    },
                    {
                      "userPhotoUrl": "https://public-1306379396.file.myqcloud.com/image/common_notification/20211230/f6305dee-e00e-4bfe-9d13-3073ad8eb565.png",
                      "rank": 2267,
                      "nickName": "AxesToAxes",
                      "positionShared": true,
                      "followerCount": 97,
                      "leaderboardUrl": "https://www.binance.com/en/futures-activity/leaderboard/user/um?type=myProfile&encryptedUid=55857C1F3EC7059E6F653FFFD7A0AF53",
                      "updateTime": 1731369600000,
                      "encryptedUid": "55857C1F3EC7059E6F653FFFD7A0AF53"
                    },
                    {
                      "userPhotoUrl": "",
                      "rank": 2326,
                      "nickName": "Anonymous User-ec8662",
                      "positionShared": true,
                      "followerCount": 13,
                      "leaderboardUrl": "https://www.binance.com/en/futures-activity/leaderboard/user/um?type=myProfile&encryptedUid=2CCBC286A2AFAF629AED357097ADB91F",
                      "updateTime": 1731369600000,
                      "encryptedUid": "2CCBC286A2AFAF629AED357097ADB91F"
                    },
                    {
                      "userPhotoUrl": "https://public.nftstatic.com/static/nft/res/62f5c6a1283443b2a6252d3babcdabdd.png",
                      "rank": 2378,
                      "nickName": "陳阿州",
                      "positionShared": true,
                      "followerCount": 1454,
                      "leaderboardUrl": "https://www.binance.com/en/futures-activity/leaderboard/user/um?type=myProfile&encryptedUid=3C626066E6E72C1EE0E54DF51F52A6BC",
                      "updateTime": 1731369600000,
                      "encryptedUid": "3C626066E6E72C1EE0E54DF51F52A6BC"
                    },
                    {
                      "userPhotoUrl": "",
                      "rank": 2416,
                      "nickName": "OwenZhang",
                      "positionShared": true,
                      "followerCount": 11,
                      "leaderboardUrl": "https://www.binance.com/en/futures-activity/leaderboard/user/um?type=myProfile&encryptedUid=08B7AAA79C576004D31ADEFA622BC315",
                      "updateTime": 1731369600000,
                      "encryptedUid": "08B7AAA79C576004D31ADEFA622BC315"
                    },
                    {
                      "userPhotoUrl": "",
                      "rank": 2423,
                      "nickName": "Anonymous User-341e64",
                      "positionShared": true,
                      "followerCount": 238,
                      "leaderboardUrl": "https://www.binance.com/en/futures-activity/leaderboard/user/um?type=myProfile&encryptedUid=102B4C19F6F04652B11EA318F28C3778",
                      "updateTime": 1731369600000,
                      "encryptedUid": "102B4C19F6F04652B11EA318F28C3778"
                    },
                    {
                      "userPhotoUrl": "https://public.nftstatic.com/static/nft/res/5beabd4d4145434aad11b87fdd8a8257.png",
                      "rank": 2639,
                      "nickName": "老四",
                      "positionShared": true,
                      "followerCount": 7,
                      "leaderboardUrl": "https://www.binance.com/en/futures-activity/leaderboard/user/um?type=myProfile&encryptedUid=C5671E62748BCC2497B0DEA22D135491",
                      "updateTime": 1731369600000,
                      "encryptedUid": "C5671E62748BCC2497B0DEA22D135491"
                    },
                    {
                      "userPhotoUrl": "https://public-1306379396.file.myqcloud.com/image/pgc/202211/04af9ae7124b42d3e83fa09cbf64260e.jpg",
                      "rank": 2665,
                      "nickName": "懂币哥挣1亿",
                      "positionShared": true,
                      "followerCount": 110,
                      "leaderboardUrl": "https://www.binance.com/en/futures-activity/leaderboard/user/um?type=myProfile&encryptedUid=5984FDADEE3FC98CE7B9165A43A31EA8",
                      "updateTime": 1731369600000,
                      "encryptedUid": "5984FDADEE3FC98CE7B9165A43A31EA8"
                    },
                    {
                      "userPhotoUrl": "",
                      "rank": 2679,
                      "twitterUrl": "https://twitter.com/PEPE__TRADING",
                      "nickName": "pepe-trading",
                      "positionShared": true,
                      "followerCount": 391,
                      "leaderboardUrl": "https://www.binance.com/en/futures-activity/leaderboard/user/um?type=myProfile&encryptedUid=048021AE9FB86377583C97C5F9962908",
                      "updateTime": 1731369600000,
                      "encryptedUid": "048021AE9FB86377583C97C5F9962908"
                    },
                    {
                      "userPhotoUrl": "",
                      "rank": 2813,
                      "nickName": "Anonymous User-8847d",
                      "positionShared": true,
                      "followerCount": 8590,
                      "leaderboardUrl": "https://www.binance.com/en/futures-activity/leaderboard/user/um?type=myProfile&encryptedUid=EE4F67875522537CAF940E5BDA96AF2C",
                      "updateTime": 1731369600000,
                      "encryptedUid": "EE4F67875522537CAF940E5BDA96AF2C"
                    },
                    {
                      "userPhotoUrl": "",
                      "rank": 3027,
                      "nickName": "Isla93",
                      "positionShared": true,
                      "followerCount": 50,
                      "leaderboardUrl": "https://www.binance.com/en/futures-activity/leaderboard/user/um?type=myProfile&encryptedUid=A5E0F8DCCAA5EDED675645D73D940BC7",
                      "updateTime": 1731369600000,
                      "encryptedUid": "A5E0F8DCCAA5EDED675645D73D940BC7"
                    },
                    {
                      "userPhotoUrl": "",
                      "rank": 3037,
                      "nickName": "jangjanghong",
                      "positionShared": true,
                      "followerCount": 5,
                      "leaderboardUrl": "https://www.binance.com/en/futures-activity/leaderboard/user/um?type=myProfile&encryptedUid=9F6AB42A414C60E2BFC96A4FA0FF0DDE",
                      "updateTime": 1731369600000,
                      "encryptedUid": "9F6AB42A414C60E2BFC96A4FA0FF0DDE"
                    },
                    {
                      "userPhotoUrl": "",
                      "rank": 3087,
                      "nickName": "paramiverlan",
                      "positionShared": true,
                      "followerCount": 454,
                      "leaderboardUrl": "https://www.binance.com/en/futures-activity/leaderboard/user/um?type=myProfile&encryptedUid=2285A8BF6E7D59C0488980192F2E1990",
                      "updateTime": 1731369600000,
                      "encryptedUid": "2285A8BF6E7D59C0488980192F2E1990"
                    },
                    {
                      "userPhotoUrl": "https://public-1306379396.file.myqcloud.com/image/common_notification/20211230/ca5ef4d8-dc73-43ba-9b42-f0ed45929ac5.png",
                      "rank": 3178,
                      "nickName": "TraderTopVn",
                      "positionShared": true,
                      "followerCount": 75,
                      "leaderboardUrl": "https://www.binance.com/en/futures-activity/leaderboard/user/um?type=myProfile&encryptedUid=400C980ADA0E76A1FD01D5A232590BD3",
                      "updateTime": 1731369600000,
                      "encryptedUid": "400C980ADA0E76A1FD01D5A232590BD3"
                    },
                    {
                      "userPhotoUrl": "",
                      "rank": 3186,
                      "twitterUrl": "https://twitter.com/GrugLikesRocks",
                      "nickName": "GrugLikesRocks",
                      "positionShared": true,
                      "followerCount": 1918,
                      "leaderboardUrl": "https://www.binance.com/en/futures-activity/leaderboard/user/um?type=myProfile&encryptedUid=9F8A6628D444E67993605F149C241CD9",
                      "updateTime": 1731369600000,
                      "encryptedUid": "9F8A6628D444E67993605F149C241CD9"
                    },
                    {
                      "userPhotoUrl": "",
                      "rank": 3201,
                      "nickName": "Anonymous User-2ceab9",
                      "positionShared": true,
                      "followerCount": 3,
                      "leaderboardUrl": "https://www.binance.com/en/futures-activity/leaderboard/user/um?type=myProfile&encryptedUid=85D299BA629CD50C4A11270DBBCE0204",
                      "updateTime": 1731369600000,
                      "encryptedUid": "85D299BA629CD50C4A11270DBBCE0204"
                    },
                    {
                      "userPhotoUrl": "https://public-1306379396.file.myqcloud.com/image/common_notification/20211230/9fcca2a6-6c68-41dc-9d50-10efe1a3d710.png",
                      "rank": 3206,
                      "nickName": "KJAYBONE",
                      "positionShared": true,
                      "followerCount": 78,
                      "leaderboardUrl": "https://www.binance.com/en/futures-activity/leaderboard/user/um?type=myProfile&encryptedUid=3A3D964AA450577B04D5E0153D62246B",
                      "updateTime": 1731369600000,
                      "encryptedUid": "3A3D964AA450577B04D5E0153D62246B"
                    },
                    {
                      "userPhotoUrl": "",
                      "rank": 3525,
                      "nickName": "Anonymous User-42c8d34",
                      "positionShared": true,
                      "followerCount": 18,
                      "leaderboardUrl": "https://www.binance.com/en/futures-activity/leaderboard/user/um?type=myProfile&encryptedUid=71038A260E1E90BF529B7747F3E59636",
                      "updateTime": 1731369600000,
                      "encryptedUid": "71038A260E1E90BF529B7747F3E59636"
                    },
                    {
                      "userPhotoUrl": "",
                      "rank": 3628,
                      "nickName": "Nina-dog",
                      "positionShared": true,
                      "followerCount": 97,
                      "leaderboardUrl": "https://www.binance.com/en/futures-activity/leaderboard/user/um?type=myProfile&encryptedUid=3BB43EB380247F51910B3E7951931601",
                      "updateTime": 1731369600000,
                      "encryptedUid": "3BB43EB380247F51910B3E7951931601"
                    },
                    {
                      "userPhotoUrl": "https://public.nftstatic.com/static/nft/res/dfd0118f050b4c23af5f005dc0abe1fe.png",
                      "rank": 4003,
                      "nickName": "GIG_HB",
                      "positionShared": true,
                      "followerCount": 6,
                      "leaderboardUrl": "https://www.binance.com/en/futures-activity/leaderboard/user/um?type=myProfile&encryptedUid=5B4466421324D630CA9A1D1B92086EDA",
                      "updateTime": 1731369600000,
                      "encryptedUid": "5B4466421324D630CA9A1D1B92086EDA"
                    },
                    {
                      "userPhotoUrl": "https://public-1306379396.file.myqcloud.com/image/pgc/202303/75d36123fba9dbcc22d00d548780dccd.jpg",
                      "rank": 4402,
                      "nickName": "以太坊老张eth",
                      "positionShared": true,
                      "followerCount": 5,
                      "leaderboardUrl": "https://www.binance.com/en/futures-activity/leaderboard/user/um?type=myProfile&encryptedUid=BF1D2A38F751812039F6934E029CD193",
                      "updateTime": 1731369600000,
                      "encryptedUid": "BF1D2A38F751812039F6934E029CD193"
                    },
                    {
                      "userPhotoUrl": "https://public-1306379396.file.myqcloud.com/image/pgc/202410/6f16585b9fbccab109d903978e93118f.png",
                      "rank": 4457,
                      "nickName": "多空双吃的zzh",
                      "positionShared": true,
                      "followerCount": 24,
                      "leaderboardUrl": "https://www.binance.com/en/futures-activity/leaderboard/user/um?type=myProfile&encryptedUid=DA36FF9FAEB4D1B4C75D9A5C1A9F7015",
                      "updateTime": 1731369600000,
                      "encryptedUid": "DA36FF9FAEB4D1B4C75D9A5C1A9F7015"
                    },
                    {
                      "userPhotoUrl": "",
                      "rank": 4469,
                      "nickName": "Anonymous User-3ee3818",
                      "positionShared": true,
                      "followerCount": 19,
                      "leaderboardUrl": "https://www.binance.com/en/futures-activity/leaderboard/user/um?type=myProfile&encryptedUid=B4A38BF56E6EDA86BDBEEAB032E7FB45",
                      "updateTime": 1731369600000,
                      "encryptedUid": "B4A38BF56E6EDA86BDBEEAB032E7FB45"
                    },
                    {
                      "userPhotoUrl": "https://public-1306379396.file.myqcloud.com/image/common_notification/20211230/e92a43a4-d9cf-4d0f-bc09-adae854a54f2.png",
                      "rank": 4471,
                      "nickName": "ChartHamster",
                      "positionShared": true,
                      "followerCount": 111,
                      "leaderboardUrl": "https://www.binance.com/en/futures-activity/leaderboard/user/um?type=myProfile&encryptedUid=882CD00677F4DD0C7E7CFE0FFEF0D825",
                      "updateTime": 1731369600000,
                      "encryptedUid": "882CD00677F4DD0C7E7CFE0FFEF0D825"
                    },
                    {
                      "userPhotoUrl": "",
                      "rank": 4553,
                      "twitterUrl": "https://twitter.com/kwypchlo",
                      "nickName": "Pazzzz",
                      "positionShared": true,
                      "followerCount": 8,
                      "leaderboardUrl": "https://www.binance.com/en/futures-activity/leaderboard/user/um?type=myProfile&encryptedUid=EB7E278ED42E7B5BB10754B6D69D0DF0",
                      "updateTime": 1731369600000,
                      "encryptedUid": "EB7E278ED42E7B5BB10754B6D69D0DF0"
                    },
                    {
                      "userPhotoUrl": "https://public.nftstatic.com/static/nft/res/7c0120caaed44e6da53bfc05c02fb44d.png",
                      "rank": 4775,
                      "nickName": "DiDi湿鸡",
                      "positionShared": true,
                      "followerCount": 11,
                      "leaderboardUrl": "https://www.binance.com/en/futures-activity/leaderboard/user/um?type=myProfile&encryptedUid=16C56CB512AD186AEB0B586BFCD5867C",
                      "updateTime": 1731369600000,
                      "encryptedUid": "16C56CB512AD186AEB0B586BFCD5867C"
                    },
                    {
                      "userPhotoUrl": "https://public.nftstatic.com/static/nft/res/nft-cex/S3/1695716378565_p7gg128kqzin6mp0ezo3tlwjbbmqblp9.png",
                      "rank": 4806,
                      "nickName": "User-e64fa",
                      "positionShared": true,
                      "followerCount": 0,
                      "leaderboardUrl": "https://www.binance.com/en/futures-activity/leaderboard/user/um?type=myProfile&encryptedUid=89A8EFDFF441567322EF9234F9F853B7",
                      "updateTime": 1731369600000,
                      "encryptedUid": "89A8EFDFF441567322EF9234F9F853B7"
                    },
                    {
                      "userPhotoUrl": "https://public-1306379396.file.myqcloud.com/image/common_notification/20211230/f6305dee-e00e-4bfe-9d13-3073ad8eb565.png",
                      "rank": 4988,
                      "nickName": "-Finansist-",
                      "positionShared": true,
                      "followerCount": 80,
                      "leaderboardUrl": "https://www.binance.com/en/futures-activity/leaderboard/user/um?type=myProfile&encryptedUid=13C1F685BE02EEE438A33462D3592D42",
                      "updateTime": 1731369600000,
                      "encryptedUid": "13C1F685BE02EEE438A33462D3592D42"
                    },
                    {
                      "userPhotoUrl": "https://public-1306379396.file.myqcloud.com/image/pgc/202411/19fe815e2a2f9002a6a697e63fe84b5d.jpg",
                      "rank": 5009,
                      "nickName": "螃蟹",
                      "positionShared": true,
                      "followerCount": 2,
                      "leaderboardUrl": "https://www.binance.com/en/futures-activity/leaderboard/user/um?type=myProfile&encryptedUid=39ED12C307C7972FBE89EB246990EC01",
                      "updateTime": 1731369600000,
                      "encryptedUid": "39ED12C307C7972FBE89EB246990EC01"
                    },
                    {
                      "userPhotoUrl": "https://public-1306379396.file.myqcloud.com/image/common_notification/20211230/9fcca2a6-6c68-41dc-9d50-10efe1a3d710.png",
                      "rank": 5013,
                      "twitterUrl": "https://twitter.com/Business1997Dr",
                      "nickName": "牛先生BKK",
                      "positionShared": true,
                      "followerCount": 106,
                      "leaderboardUrl": "https://www.binance.com/en/futures-activity/leaderboard/user/um?type=myProfile&encryptedUid=F0485AD8B38A7A4BEFF3C9A60C312D4B",
                      "updateTime": 1731369600000,
                      "encryptedUid": "F0485AD8B38A7A4BEFF3C9A60C312D4B"
                    },
                    {
                      "userPhotoUrl": "https://public-1306379396.file.myqcloud.com/image/avatar/202409/2be676fe9dbe85282909b11c5dc52cff.jpg",
                      "rank": 5034,
                      "nickName": "比特龟-1",
                      "positionShared": true,
                      "followerCount": 21,
                      "leaderboardUrl": "https://www.binance.com/en/futures-activity/leaderboard/user/um?type=myProfile&encryptedUid=4CE495F949192B29458A33BEF9A0EB44",
                      "updateTime": 1731369600000,
                      "encryptedUid": "4CE495F949192B29458A33BEF9A0EB44"
                    },
                    {
                      "userPhotoUrl": "",
                      "rank": 5050,
                      "nickName": "Achakzai-1",
                      "positionShared": true,
                      "followerCount": 0,
                      "leaderboardUrl": "https://www.binance.com/en/futures-activity/leaderboard/user/um?type=myProfile&encryptedUid=73E2930CA42D40FD3810DCD933D33C93",
                      "updateTime": 1731369600000,
                      "encryptedUid": "73E2930CA42D40FD3810DCD933D33C93"
                    },
                    {
                      "userPhotoUrl": "",
                      "rank": 5073,
                      "nickName": "Anonymous User-f3a7928",
                      "positionShared": true,
                      "followerCount": 20,
                      "leaderboardUrl": "https://www.binance.com/en/futures-activity/leaderboard/user/um?type=myProfile&encryptedUid=2604EEA032FDC3EEBFE178B82B78D64B",
                      "updateTime": 1731369600000,
                      "encryptedUid": "2604EEA032FDC3EEBFE178B82B78D64B"
                    },
                    {
                      "userPhotoUrl": "https://public-1306379396.file.myqcloud.com/image/common_notification/20211230/ca5ef4d8-dc73-43ba-9b42-f0ed45929ac5.png",
                      "rank": 5108,
                      "nickName": "ENERGYMAN844",
                      "positionShared": true,
                      "followerCount": 10,
                      "leaderboardUrl": "https://www.binance.com/en/futures-activity/leaderboard/user/um?type=myProfile&encryptedUid=2E06963D8F59DEAEE25018D6FEBC3C2C",
                      "updateTime": 1731369600000,
                      "encryptedUid": "2E06963D8F59DEAEE25018D6FEBC3C2C"
                    },
                    {
                      "userPhotoUrl": "",
                      "rank": 5132,
                      "nickName": "miyakojima",
                      "positionShared": true,
                      "followerCount": 3,
                      "leaderboardUrl": "https://www.binance.com/en/futures-activity/leaderboard/user/um?type=myProfile&encryptedUid=BDCE51845497032ECAEBDAA056E25C59",
                      "updateTime": 1731369600000,
                      "encryptedUid": "BDCE51845497032ECAEBDAA056E25C59"
                    },
                    {
                      "userPhotoUrl": "",
                      "rank": 5305,
                      "nickName": "***jimyeong",
                      "positionShared": true,
                      "followerCount": 6,
                      "leaderboardUrl": "https://www.binance.com/en/futures-activity/leaderboard/user/um?type=myProfile&encryptedUid=D0A20205BB41870BECA1E5A00AC6F7A0",
                      "updateTime": 1731369600000,
                      "encryptedUid": "D0A20205BB41870BECA1E5A00AC6F7A0"
                    },
                    {
                      "userPhotoUrl": "",
                      "rank": 5341,
                      "nickName": "Anonymous User-72a086",
                      "positionShared": true,
                      "followerCount": 2,
                      "leaderboardUrl": "https://www.binance.com/en/futures-activity/leaderboard/user/um?type=myProfile&encryptedUid=9B520CC6768B6F764FB3B067F9F61FA2",
                      "updateTime": 1731369600000,
                      "encryptedUid": "9B520CC6768B6F764FB3B067F9F61FA2"
                    },
                    {
                      "userPhotoUrl": "",
                      "rank": 5377,
                      "nickName": "Anonymous User-97fa13",
                      "positionShared": true,
                      "followerCount": 9,
                      "leaderboardUrl": "https://www.binance.com/en/futures-activity/leaderboard/user/um?type=myProfile&encryptedUid=F5653D3A3C5F359F929AD4F58B9C742F",
                      "updateTime": 1731369600000,
                      "encryptedUid": "F5653D3A3C5F359F929AD4F58B9C742F"
                    },
                    {
                      "userPhotoUrl": "https://public.nftstatic.com/static/nft/res/a6295ca782c24483a32b90fe3723532b.png",
                      "rank": 5458,
                      "nickName": "Bin1008",
                      "positionShared": true,
                      "followerCount": 8,
                      "leaderboardUrl": "https://www.binance.com/en/futures-activity/leaderboard/user/um?type=myProfile&encryptedUid=415E317A18AE59A0A633EE14B8A46F54",
                      "updateTime": 1731369600000,
                      "encryptedUid": "415E317A18AE59A0A633EE14B8A46F54"
                    },
                    {
                      "userPhotoUrl": "",
                      "rank": 5504,
                      "nickName": "Anonymous User-f4c78",
                      "positionShared": true,
                      "followerCount": 0,
                      "leaderboardUrl": "https://www.binance.com/en/futures-activity/leaderboard/user/um?type=myProfile&encryptedUid=38BBFCF40A7CDC0DC76A532155787919",
                      "updateTime": 1731369600000,
                      "encryptedUid": "38BBFCF40A7CDC0DC76A532155787919"
                    },
                    {
                      "userPhotoUrl": "https://public-1306379396.file.myqcloud.com/image/avatar/202407/86e2bb8def40492407c2668b4e749b79.jpg",
                      "rank": 5531,
                      "nickName": "Trungchina2706",
                      "positionShared": true,
                      "followerCount": 11,
                      "leaderboardUrl": "https://www.binance.com/en/futures-activity/leaderboard/user/um?type=myProfile&encryptedUid=B013B1A1968AFD92E17F69F62E778E23",
                      "updateTime": 1731369600000,
                      "encryptedUid": "B013B1A1968AFD92E17F69F62E778E23"
                    },
                    {
                      "userPhotoUrl": "",
                      "rank": 5650,
                      "nickName": "外線交易員",
                      "positionShared": true,
                      "followerCount": 76,
                      "leaderboardUrl": "https://www.binance.com/en/futures-activity/leaderboard/user/um?type=myProfile&encryptedUid=1AD799E4C3CF4D89F0A9E275F8532DF4",
                      "updateTime": 1731369600000,
                      "encryptedUid": "1AD799E4C3CF4D89F0A9E275F8532DF4"
                    },
                    {
                      "userPhotoUrl": "https://public.nftstatic.com/static/nft/res/0e298e13606e41e08ea1313a5980f5e1.png",
                      "rank": 5785,
                      "nickName": "Hong_TOP",
                      "positionShared": true,
                      "followerCount": 277,
                      "leaderboardUrl": "https://www.binance.com/en/futures-activity/leaderboard/user/um?type=myProfile&encryptedUid=D4D39BC5123A4F821729778454D8F723",
                      "updateTime": 1731369600000,
                      "encryptedUid": "D4D39BC5123A4F821729778454D8F723"
                    },
                    {
                      "userPhotoUrl": "https://static-file-1306379396.file.myqcloud.com/static/content/static-sources/square-default-avatar.png",
                      "rank": 5840,
                      "nickName": "User-475762",
                      "positionShared": true,
                      "followerCount": 1,
                      "leaderboardUrl": "https://www.binance.com/en/futures-activity/leaderboard/user/um?type=myProfile&encryptedUid=22B7BFD63DEC679B4D0E0B13EA8C83F8",
                      "updateTime": 1731369600000,
                      "encryptedUid": "22B7BFD63DEC679B4D0E0B13EA8C83F8"
                    },
                    {
                      "userPhotoUrl": "",
                      "rank": 5853,
                      "nickName": "Snow-L",
                      "positionShared": true,
                      "followerCount": 8,
                      "leaderboardUrl": "https://www.binance.com/en/futures-activity/leaderboard/user/um?type=myProfile&encryptedUid=802073CDA5D86751B0AF14B4AB0C7C06",
                      "updateTime": 1731369600000,
                      "encryptedUid": "802073CDA5D86751B0AF14B4AB0C7C06"
                    },
                    {
                      "userPhotoUrl": "",
                      "rank": 6009,
                      "nickName": "Anonymous User-8dec3",
                      "positionShared": true,
                      "followerCount": 1,
                      "leaderboardUrl": "https://www.binance.com/en/futures-activity/leaderboard/user/um?type=myProfile&encryptedUid=F0972BA62DF1A3B35C98B72587862FDF",
                      "updateTime": 1731369600000,
                      "encryptedUid": "F0972BA62DF1A3B35C98B72587862FDF"
                    },
                    {
                      "userPhotoUrl": "",
                      "rank": 6061,
                      "nickName": "Anonymous User-cc07e",
                      "positionShared": true,
                      "followerCount": 7,
                      "leaderboardUrl": "https://www.binance.com/en/futures-activity/leaderboard/user/um?type=myProfile&encryptedUid=8CBD9564464D5CB5B6D00F54DA00ACB9",
                      "updateTime": 1731369600000,
                      "encryptedUid": "8CBD9564464D5CB5B6D00F54DA00ACB9"
                    },
                    {
                      "userPhotoUrl": "",
                      "rank": 6114,
                      "nickName": "Dongyeop Yang",
                      "positionShared": true,
                      "followerCount": 1512,
                      "leaderboardUrl": "https://www.binance.com/en/futures-activity/leaderboard/user/um?type=myProfile&encryptedUid=E8F1FA5701921D41F3D925928599B83E",
                      "updateTime": 1731369600000,
                      "encryptedUid": "E8F1FA5701921D41F3D925928599B83E"
                    },
                    {
                      "userPhotoUrl": "https://public-1306379396.file.myqcloud.com/image/common_notification/20211230/f6305dee-e00e-4bfe-9d13-3073ad8eb565.png",
                      "rank": 6169,
                      "nickName": "重庆老z",
                      "positionShared": true,
                      "followerCount": 147,
                      "leaderboardUrl": "https://www.binance.com/en/futures-activity/leaderboard/user/um?type=myProfile&encryptedUid=65B8B70A73B45565A560924FB9791FC7",
                      "updateTime": 1731369600000,
                      "encryptedUid": "65B8B70A73B45565A560924FB9791FC7"
                    },
                    {
                      "userPhotoUrl": "",
                      "rank": 6198,
                      "nickName": "biquanzhaoge",
                      "positionShared": true,
                      "followerCount": 21,
                      "leaderboardUrl": "https://www.binance.com/en/futures-activity/leaderboard/user/um?type=myProfile&encryptedUid=BBFC6AA16CD6401D78FE2A77EC266341",
                      "updateTime": 1731369600000,
                      "encryptedUid": "BBFC6AA16CD6401D78FE2A77EC266341"
                    },
                    {
                      "userPhotoUrl": "",
                      "rank": 6257,
                      "nickName": "Anonymous User-c3a0a25",
                      "positionShared": true,
                      "followerCount": 0,
                      "leaderboardUrl": "https://www.binance.com/en/futures-activity/leaderboard/user/um?type=myProfile&encryptedUid=3B27C4562FA677C2244DA117E3EE10BA",
                      "updateTime": 1731369600000,
                      "encryptedUid": "3B27C4562FA677C2244DA117E3EE10BA"
                    },
                    {
                      "userPhotoUrl": "",
                      "rank": 6330,
                      "nickName": "Anonymous User-3e1792",
                      "positionShared": true,
                      "followerCount": 216,
                      "leaderboardUrl": "https://www.binance.com/en/futures-activity/leaderboard/user/um?type=myProfile&encryptedUid=690891581E537EB951DF1B131EAC0F8C",
                      "updateTime": 1731369600000,
                      "encryptedUid": "690891581E537EB951DF1B131EAC0F8C"
                    },
                    {
                      "userPhotoUrl": "https://public-1306379396.file.myqcloud.com/image/avatar/202410/6c6afd2af5812f5fa1bc49cb4f5598f1.jpg",
                      "rank": 6386,
                      "nickName": "腰缠万贯的市井小民",
                      "positionShared": true,
                      "followerCount": 0,
                      "leaderboardUrl": "https://www.binance.com/en/futures-activity/leaderboard/user/um?type=myProfile&encryptedUid=B182789EE7FBD84550DF388C68CBB979",
                      "updateTime": 1731369600000,
                      "encryptedUid": "B182789EE7FBD84550DF388C68CBB979"
                    },
                    {
                      "userPhotoUrl": "",
                      "rank": 6396,
                      "nickName": "Upbit3",
                      "positionShared": true,
                      "followerCount": 11,
                      "leaderboardUrl": "https://www.binance.com/en/futures-activity/leaderboard/user/um?type=myProfile&encryptedUid=6531961C5FB829E2CAAC135C80EE82E9",
                      "updateTime": 1731369600000,
                      "encryptedUid": "6531961C5FB829E2CAAC135C80EE82E9"
                    },
                    {
                      "userPhotoUrl": "",
                      "rank": 6775,
                      "nickName": "luckymonkie",
                      "positionShared": true,
                      "followerCount": 17,
                      "leaderboardUrl": "https://www.binance.com/en/futures-activity/leaderboard/user/um?type=myProfile&encryptedUid=4502026438B88911EE785717B2E344CD",
                      "updateTime": 1731369600000,
                      "encryptedUid": "4502026438B88911EE785717B2E344CD"
                    },
                    {
                      "userPhotoUrl": "https://public-1306379396.file.myqcloud.com/image/common_notification/20211230/e92a43a4-d9cf-4d0f-bc09-adae854a54f2.png",
                      "rank": 6846,
                      "nickName": "CORseverance",
                      "positionShared": true,
                      "followerCount": 11,
                      "leaderboardUrl": "https://www.binance.com/en/futures-activity/leaderboard/user/um?type=myProfile&encryptedUid=DA2A2CDEEAC50C1A5111FD6A3A3549C7",
                      "updateTime": 1731369600000,
                      "encryptedUid": "DA2A2CDEEAC50C1A5111FD6A3A3549C7"
                    },
                    {
                      "userPhotoUrl": "https://public-1306379396.file.myqcloud.com/image/common_notification/20211230/555ac257-584e-40a6-9adb-f96a603820f3.png",
                      "rank": 6851,
                      "nickName": "早晚得出家",
                      "positionShared": true,
                      "followerCount": 222,
                      "leaderboardUrl": "https://www.binance.com/en/futures-activity/leaderboard/user/um?type=myProfile&encryptedUid=8BD79BFAE690F8516C92A1645578FEE3",
                      "updateTime": 1731369600000,
                      "encryptedUid": "8BD79BFAE690F8516C92A1645578FEE3"
                    },
                    {
                      "userPhotoUrl": "https://public-1306379396.file.myqcloud.com/image/avatar/202411/9a8c4afadc491541144abcca88d590ed.jpg",
                      "rank": 6889,
                      "nickName": "EIonMusk",
                      "positionShared": true,
                      "followerCount": 833,
                      "leaderboardUrl": "https://www.binance.com/en/futures-activity/leaderboard/user/um?type=myProfile&encryptedUid=645F25764422C4A8A161BBAED9C38537",
                      "updateTime": 1731369600000,
                      "encryptedUid": "645F25764422C4A8A161BBAED9C38537"
                    },
                    {
                      "userPhotoUrl": "https://public-1306379396.file.myqcloud.com/image/common_notification/20211230/f6305dee-e00e-4bfe-9d13-3073ad8eb565.png",
                      "rank": 6939,
                      "nickName": "oppaoppa",
                      "positionShared": true,
                      "followerCount": 77,
                      "leaderboardUrl": "https://www.binance.com/en/futures-activity/leaderboard/user/um?type=myProfile&encryptedUid=E3503EA62F6D1D00D152DD035B47BADD",
                      "updateTime": 1731369600000,
                      "encryptedUid": "E3503EA62F6D1D00D152DD035B47BADD"
                    },
                    {
                      "userPhotoUrl": "https://public-1306379396.file.myqcloud.com/image/common_notification/20211230/fe45acbe-4cb8-4d78-b426-07f3402e285c.png",
                      "rank": 6952,
                      "nickName": "TORRES9",
                      "positionShared": true,
                      "followerCount": 90,
                      "leaderboardUrl": "https://www.binance.com/en/futures-activity/leaderboard/user/um?type=myProfile&encryptedUid=CF86B67A36D7C40E7DAA7ABF4B2D833D",
                      "updateTime": 1731369600000,
                      "encryptedUid": "CF86B67A36D7C40E7DAA7ABF4B2D833D"
                    },
                    {
                      "userPhotoUrl": "https://public-1306379396.file.myqcloud.com/image/common_notification/20211230/e92a43a4-d9cf-4d0f-bc09-adae854a54f2.png",
                      "rank": 6990,
                      "nickName": "Bigtreea",
                      "positionShared": true,
                      "followerCount": 37,
                      "leaderboardUrl": "https://www.binance.com/en/futures-activity/leaderboard/user/um?type=myProfile&encryptedUid=B65C96D39248382B0B07F80E920B2595",
                      "updateTime": 1731369600000,
                      "encryptedUid": "B65C96D39248382B0B07F80E920B2595"
                    },
                    {
                      "userPhotoUrl": "https://public-1306379396.file.myqcloud.com/image/common_notification/20211230/555ac257-584e-40a6-9adb-f96a603820f3.png",
                      "rank": 7113,
                      "nickName": "八月初八",
                      "positionShared": true,
                      "followerCount": 15,
                      "leaderboardUrl": "https://www.binance.com/en/futures-activity/leaderboard/user/um?type=myProfile&encryptedUid=C09DBB7398D0E66D0B535ADD362D2433",
                      "updateTime": 1731369600000,
                      "encryptedUid": "C09DBB7398D0E66D0B535ADD362D2433"
                    },
                    {
                      "userPhotoUrl": "",
                      "rank": 7169,
                      "nickName": "Squirrel_korea",
                      "positionShared": true,
                      "followerCount": 2,
                      "leaderboardUrl": "https://www.binance.com/en/futures-activity/leaderboard/user/um?type=myProfile&encryptedUid=F0C4C896194F52DD4229917F6E80299B",
                      "updateTime": 1731369600000,
                      "encryptedUid": "F0C4C896194F52DD4229917F6E80299B"
                    },
                    {
                      "userPhotoUrl": "",
                      "rank": 7218,
                      "nickName": "Anonymous User-f6fcc21",
                      "positionShared": true,
                      "followerCount": 17,
                      "leaderboardUrl": "https://www.binance.com/en/futures-activity/leaderboard/user/um?type=myProfile&encryptedUid=B5828D82C9BDEAAFD0A36CAF949167BC",
                      "updateTime": 1731369600000,
                      "encryptedUid": "B5828D82C9BDEAAFD0A36CAF949167BC"
                    },
                    {
                      "userPhotoUrl": "",
                      "rank": 7747,
                      "nickName": "financiere",
                      "positionShared": true,
                      "followerCount": 0,
                      "leaderboardUrl": "https://www.binance.com/en/futures-activity/leaderboard/user/um?type=myProfile&encryptedUid=7195299FFB5D63C38125C48534D7E50C",
                      "updateTime": 1731369600000,
                      "encryptedUid": "7195299FFB5D63C38125C48534D7E50C"
                    },
                    {
                      "userPhotoUrl": "",
                      "rank": 7787,
                      "nickName": "Realm00",
                      "positionShared": true,
                      "followerCount": 52,
                      "leaderboardUrl": "https://www.binance.com/en/futures-activity/leaderboard/user/um?type=myProfile&encryptedUid=4405135FEBC4366D78EECD330216F8ED",
                      "updateTime": 1731369600000,
                      "encryptedUid": "4405135FEBC4366D78EECD330216F8ED"
                    },
                    {
                      "userPhotoUrl": "https://public-1306379396.file.myqcloud.com/image/common_notification/20211230/f6305dee-e00e-4bfe-9d13-3073ad8eb565.png",
                      "rank": 7894,
                      "nickName": "Starcbs",
                      "positionShared": true,
                      "followerCount": 154,
                      "leaderboardUrl": "https://www.binance.com/en/futures-activity/leaderboard/user/um?type=myProfile&encryptedUid=FDB347A3CD460CD78D82970462C44AE0",
                      "updateTime": 1731369600000,
                      "encryptedUid": "FDB347A3CD460CD78D82970462C44AE0"
                    }
                  ],
                  "2": "true"
                }
              ],
              "schema": [
                {
                  "key": "0",
                  "name": "data",
                  "type": "ArrayType(StructType(StructField(encryptedUid,StringType,true),StructField(followerCount,LongType,true),StructField(leaderboardUrl,StringType,true),StructField(nickName,StringType,true),StructField(positionShared,BooleanType,true),StructField(rank,LongType,true),StructField(twitterUrl,StringType,true),StructField(updateTime,DoubleType,true),StructField(userPhotoUrl,StringType,true),StructField(value,StringType,true)),true)"
                },
                {
                  "key": "1",
                  "name": "message",
                  "type": "string"
                },
                {
                  "key": "2",
                  "name": "success",
                  "type": "boolean"
                }
              ],
              "truncated": false
            },
            "isSummary": false,
            "language": "scala",
            "wranglerEntryContext": {
              "dataframeType": "pyspark"
            }
          },
          "persist_state": {
            "view": {
              "type": "details",
              "tableOptions": {},
              "chartOptions": {
                "chartType": "bar",
                "aggregationType": "count",
                "categoryFieldKeys": [
                  "1"
                ],
                "seriesFieldKeys": [
                  "0"
                ],
                "isStacked": false
              }
            }
          }
        }
      }
    }
  },
  "nbformat": 4,
  "nbformat_minor": 2
}